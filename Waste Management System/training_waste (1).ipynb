{
 "cells": [
  {
   "cell_type": "markdown",
   "id": "b7d06e26-f66f-4daa-aabc-6e8a91bd58af",
   "metadata": {},
   "source": [
    "## Importing Libraries"
   ]
  },
  {
   "cell_type": "code",
   "execution_count": 1,
   "id": "5e339c71-b4cf-41e3-b4b4-7d77301a671d",
   "metadata": {},
   "outputs": [],
   "source": [
    "import tensorflow as tf\n",
    "import matplotlib.pyplot as plt\n",
    "import pandas as pd\n",
    "import seaborn as sns"
   ]
  },
  {
   "cell_type": "markdown",
   "id": "67af2881-8a90-4357-a3ea-b03e9f631841",
   "metadata": {},
   "source": [
    "## Data Preprocessing"
   ]
  },
  {
   "cell_type": "markdown",
   "id": "a804239d-4fad-43a4-a451-75a8e1d8a37c",
   "metadata": {},
   "source": [
    "### Training Image Preprocessing"
   ]
  },
  {
   "cell_type": "code",
   "execution_count": 2,
   "id": "733814b3-9d13-4109-9ddd-908687eaddc8",
   "metadata": {},
   "outputs": [
    {
     "name": "stdout",
     "output_type": "stream",
     "text": [
      "Found 22564 files belonging to 2 classes.\n"
     ]
    }
   ],
   "source": [
    "training_set = tf.keras.utils.image_dataset_from_directory(\n",
    "    'TRAIN',\n",
    "    labels=\"inferred\",\n",
    "    label_mode=\"categorical\",\n",
    "    class_names=None,\n",
    "    color_mode=\"rgb\",\n",
    "    batch_size=32,\n",
    "    image_size=(128, 128),\n",
    "    shuffle=True,\n",
    "    seed=None,\n",
    "    validation_split=None,\n",
    "    subset=None,\n",
    "    interpolation=\"bilinear\",\n",
    "    follow_links=False,\n",
    "    crop_to_aspect_ratio=False,\n",
    "    pad_to_aspect_ratio=False,\n",
    "    data_format=None,\n",
    "    verbose=True,\n",
    ")"
   ]
  },
  {
   "cell_type": "markdown",
   "id": "694d94ad-a354-4e83-8ff0-8bd5c3da31bd",
   "metadata": {},
   "source": [
    "### Validation Image Preprocessing"
   ]
  },
  {
   "cell_type": "code",
   "execution_count": 3,
   "id": "96d55157-6265-46df-9516-fbdda3eeab1c",
   "metadata": {},
   "outputs": [
    {
     "name": "stdout",
     "output_type": "stream",
     "text": [
      "Found 2513 files belonging to 2 classes.\n"
     ]
    }
   ],
   "source": [
    "validation_set = tf.keras.utils.image_dataset_from_directory(\n",
    "    'VALID',\n",
    "    labels=\"inferred\",\n",
    "    label_mode=\"categorical\",\n",
    "    class_names=None,\n",
    "    color_mode=\"rgb\",\n",
    "    batch_size=32,\n",
    "    image_size=(128, 128),\n",
    "    shuffle=True,\n",
    "    seed=None,\n",
    "    validation_split=None,\n",
    "    subset=None,\n",
    "    interpolation=\"bilinear\",\n",
    "    follow_links=False,\n",
    "    crop_to_aspect_ratio=False,\n",
    "    pad_to_aspect_ratio=False,\n",
    "    data_format=None,\n",
    "    verbose=True,\n",
    ")"
   ]
  },
  {
   "cell_type": "code",
   "execution_count": 4,
   "id": "e8138b4d-66ad-4924-987b-35f30bc9913f",
   "metadata": {},
   "outputs": [
    {
     "name": "stdout",
     "output_type": "stream",
     "text": [
      "tf.Tensor(\n",
      "[[[[9.38398438e+01 6.43437500e+01 6.77444611e+01]\n",
      "   [9.64717255e+01 6.68174591e+01 6.37392731e+01]\n",
      "   [1.14530502e+02 8.39885864e+01 6.88348389e+01]\n",
      "   ...\n",
      "   [1.12671478e+02 1.45469055e+02 1.99585541e+02]\n",
      "   [5.86340027e+01 9.72766113e+01 1.54610626e+02]\n",
      "   [8.71221466e+01 1.24724350e+02 1.69981522e+02]]\n",
      "\n",
      "  [[7.83906860e+01 6.59922485e+01 4.83614197e+01]\n",
      "   [7.12472076e+01 5.84815826e+01 3.74347076e+01]\n",
      "   [7.62145386e+01 6.17848511e+01 3.50444641e+01]\n",
      "   ...\n",
      "   [1.28909134e+02 1.58181519e+02 2.02592728e+02]\n",
      "   [8.77118378e+01 1.22322144e+02 1.69579956e+02]\n",
      "   [7.05520172e+01 1.03847900e+02 1.41610611e+02]]\n",
      "\n",
      "  [[5.11317139e+01 4.56242523e+01 1.20926514e+01]\n",
      "   [6.45814514e+01 5.94681702e+01 2.46908264e+01]\n",
      "   [7.91470184e+01 7.23401794e+01 3.86083527e+01]\n",
      "   ...\n",
      "   [8.39915619e+01 1.09081406e+02 1.39954651e+02]\n",
      "   [1.70093597e+02 1.98836838e+02 2.21011703e+02]\n",
      "   [6.67961273e+01 9.30418701e+01 1.19405502e+02]]\n",
      "\n",
      "  ...\n",
      "\n",
      "  [[3.55843964e+01 9.28752136e+00 6.32019043e-02]\n",
      "   [5.51127777e+01 2.78364868e+01 1.07888641e+01]\n",
      "   [6.03957672e+01 3.16153107e+01 1.70897217e+01]\n",
      "   ...\n",
      "   [8.85514679e+01 1.06561432e+02 5.49442444e+01]\n",
      "   [1.29506577e+02 1.42362045e+02 1.17614151e+02]\n",
      "   [5.12434387e+00 6.46633911e+00 1.12326660e+01]]\n",
      "\n",
      "  [[9.28010864e+01 6.82229614e+01 5.22893677e+01]\n",
      "   [4.10665741e+01 1.59746857e+01 4.68450928e+00]\n",
      "   [2.93270721e+01 4.15370178e+00 9.31045532e-01]\n",
      "   ...\n",
      "   [1.45143188e+02 1.61658813e+02 1.20533813e+02]\n",
      "   [1.11532166e+02 1.22957947e+02 1.07816391e+02]\n",
      "   [4.92572021e+00 6.64837646e+00 1.46620178e+01]]\n",
      "\n",
      "  [[4.72748413e+01 2.84154663e+01 1.98962250e+01]\n",
      "   [4.53802185e+01 2.46400146e+01 1.54016724e+01]\n",
      "   [3.77995453e+01 1.40666199e+01 9.00205994e+00]\n",
      "   ...\n",
      "   [1.15448837e+02 1.30433563e+02 9.94793854e+01]\n",
      "   [9.83943939e+01 1.07954971e+02 1.00473633e+02]\n",
      "   [5.75477600e+00 8.36380005e+00 1.94513702e+01]]]\n",
      "\n",
      "\n",
      " [[[1.85585938e+02 1.01509735e+02 7.92675476e+01]\n",
      "   [1.54425385e+02 6.03129425e+01 3.97124023e+01]\n",
      "   [1.72596710e+02 6.35913086e+01 4.27337341e+01]\n",
      "   ...\n",
      "   [9.51983032e+01 5.43440399e+01 5.44347839e+01]\n",
      "   [1.95185455e+02 1.71936295e+02 1.59671692e+02]\n",
      "   [3.62481384e+01 2.68311310e+01 2.05127411e+01]]\n",
      "\n",
      "  [[1.99770615e+02 8.92872620e+01 7.60763245e+01]\n",
      "   [1.37006454e+02 2.17196198e+01 9.26678467e+00]\n",
      "   [1.51631454e+02 2.54151154e+01 1.06840210e+01]\n",
      "   ...\n",
      "   [9.49336395e+01 5.18540192e+01 5.21157379e+01]\n",
      "   [2.08057495e+02 1.82044098e+02 1.70982437e+02]\n",
      "   [4.09111786e+01 2.73330536e+01 2.28379822e+01]]\n",
      "\n",
      "  [[1.83255402e+02 5.53981323e+01 4.93407440e+01]\n",
      "   [1.46598572e+02 1.63702240e+01 8.86843872e+00]\n",
      "   [2.17712692e+02 8.74519043e+01 7.48016815e+01]\n",
      "   ...\n",
      "   [9.49694977e+01 4.98243713e+01 5.20638428e+01]\n",
      "   [1.90189575e+02 1.56731049e+02 1.49992767e+02]\n",
      "   [5.02752380e+01 2.76601562e+01 2.48479614e+01]]\n",
      "\n",
      "  ...\n",
      "\n",
      "  [[2.51436295e+02 2.44435104e+02 2.35301392e+02]\n",
      "   [2.45659576e+02 2.41682098e+02 2.35346161e+02]\n",
      "   [2.50606659e+02 2.52612946e+02 2.50529724e+02]\n",
      "   ...\n",
      "   [1.54705841e+02 1.28283966e+02 9.51562500e+01]\n",
      "   [1.52273438e+02 1.25851562e+02 9.25351562e+01]\n",
      "   [1.49808899e+02 1.21720261e+02 9.02815552e+01]]\n",
      "\n",
      "  [[2.49780777e+02 2.01332031e+02 1.98058594e+02]\n",
      "   [2.32410446e+02 1.93294937e+02 1.92412964e+02]\n",
      "   [2.41911942e+02 2.20421539e+02 2.25253860e+02]\n",
      "   ...\n",
      "   [1.60284866e+02 1.27786072e+02 9.26208038e+01]\n",
      "   [1.61769531e+02 1.30042969e+02 9.23164062e+01]\n",
      "   [1.52113754e+02 1.19851013e+02 8.50787811e+01]]\n",
      "\n",
      "  [[2.46621094e+02 1.75495071e+02 1.77221634e+02]\n",
      "   [2.47155411e+02 2.04429977e+02 2.00154678e+02]\n",
      "   [2.54640335e+02 2.43551102e+02 2.39559219e+02]\n",
      "   ...\n",
      "   [1.61834137e+02 1.27213043e+02 9.65606995e+01]\n",
      "   [1.50019241e+02 1.15398148e+02 8.47458038e+01]\n",
      "   [1.48160995e+02 1.12918808e+02 8.09587708e+01]]]\n",
      "\n",
      "\n",
      " [[[2.24220123e+02 1.77159439e+02 1.32600571e+02]\n",
      "   [2.29592499e+02 1.79317520e+02 1.29817520e+02]\n",
      "   [2.24985748e+02 1.71302155e+02 1.11863281e+02]\n",
      "   ...\n",
      "   [2.27609283e+02 1.84292877e+02 1.41074127e+02]\n",
      "   [2.53306335e+02 2.06166534e+02 1.50643097e+02]\n",
      "   [2.53061508e+02 2.11078400e+02 1.50857559e+02]]\n",
      "\n",
      "  [[2.23837265e+02 1.75679474e+02 1.33306839e+02]\n",
      "   [2.33803101e+02 1.82671722e+02 1.35878036e+02]\n",
      "   [2.19545593e+02 1.65330856e+02 1.07940338e+02]\n",
      "   ...\n",
      "   [2.49956177e+02 2.08131851e+02 1.58979614e+02]\n",
      "   [2.49818878e+02 2.03150909e+02 1.41264191e+02]\n",
      "   [2.51499069e+02 2.09604538e+02 1.47315369e+02]]\n",
      "\n",
      "  [[2.09026917e+02 1.59116653e+02 1.18890198e+02]\n",
      "   [2.14672409e+02 1.62016373e+02 1.17024078e+02]\n",
      "   [2.15505508e+02 1.60716446e+02 1.06781906e+02]\n",
      "   ...\n",
      "   [2.44819244e+02 2.05409088e+02 1.47044327e+02]\n",
      "   [2.51800781e+02 2.07320419e+02 1.39929260e+02]\n",
      "   [2.54145691e+02 2.13245880e+02 1.50967163e+02]]\n",
      "\n",
      "  ...\n",
      "\n",
      "  [[1.40392105e+02 8.91499176e+01 6.47710114e+01]\n",
      "   [1.07906250e+02 6.01796875e+01 3.80429688e+01]\n",
      "   [8.80356903e+01 4.29302216e+01 1.99302216e+01]\n",
      "   ...\n",
      "   [1.10637543e+02 5.94398041e+01 2.49163666e+01]\n",
      "   [1.56964096e+02 9.80500336e+01 5.56008148e+01]\n",
      "   [1.81629852e+02 1.19236694e+02 7.35387421e+01]]\n",
      "\n",
      "  [[1.30603928e+02 7.93617401e+01 5.49828339e+01]\n",
      "   [9.01293030e+01 4.24027405e+01 1.98175201e+01]\n",
      "   [7.26597290e+01 2.75542603e+01 4.55426025e+00]\n",
      "   ...\n",
      "   [1.39049927e+02 8.40496063e+01 4.40184631e+01]\n",
      "   [1.66965240e+02 1.04916214e+02 5.65270233e+01]\n",
      "   [1.85760788e+02 1.20682663e+02 6.86436005e+01]]\n",
      "\n",
      "  [[1.10868011e+02 5.79461365e+01 3.28422089e+01]\n",
      "   [8.95758667e+01 4.03992615e+01 1.72844391e+01]\n",
      "   [1.04215988e+02 5.91105194e+01 3.60219421e+01]\n",
      "   ...\n",
      "   [1.42897491e+02 8.56735687e+01 4.08923187e+01]\n",
      "   [1.76748566e+02 1.11007095e+02 5.96430969e+01]\n",
      "   [1.86446136e+02 1.17766449e+02 6.30867615e+01]]]\n",
      "\n",
      "\n",
      " ...\n",
      "\n",
      "\n",
      " [[[9.27734375e+00 1.27734375e+00 0.00000000e+00]\n",
      "   [1.23867188e+01 1.38671875e+00 8.32031250e-01]\n",
      "   [1.56445312e+01 5.15625000e-01 5.15625000e-01]\n",
      "   ...\n",
      "   [7.61468506e+00 2.93890381e+00 1.03125000e+00]\n",
      "   [8.78125000e+00 0.00000000e+00 0.00000000e+00]\n",
      "   [0.00000000e+00 1.00000000e+00 0.00000000e+00]]\n",
      "\n",
      "  [[9.27734375e+00 1.27734375e+00 0.00000000e+00]\n",
      "   [1.23867188e+01 1.38671875e+00 8.32031250e-01]\n",
      "   [1.56445312e+01 5.15625000e-01 5.15625000e-01]\n",
      "   ...\n",
      "   [6.22010803e+00 1.29507446e+00 1.19741821e+00]\n",
      "   [1.25074463e+01 0.00000000e+00 1.86309814e+00]\n",
      "   [0.00000000e+00 1.00000000e+00 0.00000000e+00]]\n",
      "\n",
      "  [[9.27734375e+00 1.27734375e+00 0.00000000e+00]\n",
      "   [1.23867188e+01 1.38671875e+00 8.32031250e-01]\n",
      "   [1.56445312e+01 5.15625000e-01 5.15625000e-01]\n",
      "   ...\n",
      "   [6.42578125e+00 1.29862976e+00 1.55644226e+00]\n",
      "   [1.89190216e+01 4.33593750e+00 5.78125000e+00]\n",
      "   [0.00000000e+00 9.25781250e-01 0.00000000e+00]]\n",
      "\n",
      "  ...\n",
      "\n",
      "  [[0.00000000e+00 0.00000000e+00 0.00000000e+00]\n",
      "   [0.00000000e+00 0.00000000e+00 0.00000000e+00]\n",
      "   [0.00000000e+00 0.00000000e+00 0.00000000e+00]\n",
      "   ...\n",
      "   [1.64181519e+00 1.71603394e+00 1.64181519e+00]\n",
      "   [0.00000000e+00 5.36346436e-02 0.00000000e+00]\n",
      "   [0.00000000e+00 0.00000000e+00 0.00000000e+00]]\n",
      "\n",
      "  [[0.00000000e+00 0.00000000e+00 0.00000000e+00]\n",
      "   [0.00000000e+00 0.00000000e+00 0.00000000e+00]\n",
      "   [0.00000000e+00 0.00000000e+00 0.00000000e+00]\n",
      "   ...\n",
      "   [7.92411804e+00 5.61447144e+00 6.30482483e+00]\n",
      "   [3.59634399e+00 3.08258057e+00 3.33946228e+00]\n",
      "   [0.00000000e+00 0.00000000e+00 0.00000000e+00]]\n",
      "\n",
      "  [[0.00000000e+00 0.00000000e+00 0.00000000e+00]\n",
      "   [0.00000000e+00 0.00000000e+00 0.00000000e+00]\n",
      "   [0.00000000e+00 0.00000000e+00 0.00000000e+00]\n",
      "   ...\n",
      "   [2.90835571e+00 1.38473511e-01 1.66168213e-01]\n",
      "   [2.74101257e+00 1.86309814e+00 2.01835632e+00]\n",
      "   [0.00000000e+00 0.00000000e+00 0.00000000e+00]]]\n",
      "\n",
      "\n",
      " [[[2.55000000e+02 2.55000000e+02 2.55000000e+02]\n",
      "   [2.55000000e+02 2.55000000e+02 2.55000000e+02]\n",
      "   [2.55000000e+02 2.55000000e+02 2.55000000e+02]\n",
      "   ...\n",
      "   [2.55000000e+02 2.55000000e+02 2.55000000e+02]\n",
      "   [2.55000000e+02 2.55000000e+02 2.55000000e+02]\n",
      "   [2.55000000e+02 2.55000000e+02 2.55000000e+02]]\n",
      "\n",
      "  [[2.55000000e+02 2.55000000e+02 2.55000000e+02]\n",
      "   [2.55000000e+02 2.55000000e+02 2.55000000e+02]\n",
      "   [2.55000000e+02 2.55000000e+02 2.55000000e+02]\n",
      "   ...\n",
      "   [2.55000000e+02 2.55000000e+02 2.55000000e+02]\n",
      "   [2.55000000e+02 2.55000000e+02 2.55000000e+02]\n",
      "   [2.55000000e+02 2.55000000e+02 2.55000000e+02]]\n",
      "\n",
      "  [[2.55000000e+02 2.55000000e+02 2.55000000e+02]\n",
      "   [2.55000000e+02 2.55000000e+02 2.55000000e+02]\n",
      "   [2.55000000e+02 2.55000000e+02 2.55000000e+02]\n",
      "   ...\n",
      "   [2.55000000e+02 2.55000000e+02 2.55000000e+02]\n",
      "   [2.55000000e+02 2.55000000e+02 2.55000000e+02]\n",
      "   [2.55000000e+02 2.55000000e+02 2.55000000e+02]]\n",
      "\n",
      "  ...\n",
      "\n",
      "  [[2.55000000e+02 2.55000000e+02 2.55000000e+02]\n",
      "   [2.55000000e+02 2.55000000e+02 2.55000000e+02]\n",
      "   [2.55000000e+02 2.55000000e+02 2.55000000e+02]\n",
      "   ...\n",
      "   [2.55000000e+02 2.55000000e+02 2.55000000e+02]\n",
      "   [2.55000000e+02 2.55000000e+02 2.55000000e+02]\n",
      "   [2.55000000e+02 2.55000000e+02 2.55000000e+02]]\n",
      "\n",
      "  [[2.55000000e+02 2.55000000e+02 2.55000000e+02]\n",
      "   [2.55000000e+02 2.55000000e+02 2.55000000e+02]\n",
      "   [2.55000000e+02 2.55000000e+02 2.55000000e+02]\n",
      "   ...\n",
      "   [2.55000000e+02 2.55000000e+02 2.55000000e+02]\n",
      "   [2.55000000e+02 2.55000000e+02 2.55000000e+02]\n",
      "   [2.55000000e+02 2.55000000e+02 2.55000000e+02]]\n",
      "\n",
      "  [[2.55000000e+02 2.55000000e+02 2.55000000e+02]\n",
      "   [2.55000000e+02 2.55000000e+02 2.55000000e+02]\n",
      "   [2.55000000e+02 2.55000000e+02 2.55000000e+02]\n",
      "   ...\n",
      "   [2.55000000e+02 2.55000000e+02 2.55000000e+02]\n",
      "   [2.55000000e+02 2.55000000e+02 2.55000000e+02]\n",
      "   [2.55000000e+02 2.55000000e+02 2.55000000e+02]]]\n",
      "\n",
      "\n",
      " [[[1.67000000e+02 1.68000000e+02 1.63000000e+02]\n",
      "   [1.67000000e+02 1.68000000e+02 1.63000000e+02]\n",
      "   [1.67000000e+02 1.68000000e+02 1.63000000e+02]\n",
      "   ...\n",
      "   [9.90000000e+01 1.00000000e+02 9.40000000e+01]\n",
      "   [9.83783417e+01 9.93783417e+01 9.33783417e+01]\n",
      "   [9.80000000e+01 9.90000000e+01 9.30000000e+01]]\n",
      "\n",
      "  [[1.67699219e+02 1.68699219e+02 1.63699219e+02]\n",
      "   [1.67699219e+02 1.68699219e+02 1.63699219e+02]\n",
      "   [1.67699219e+02 1.68699219e+02 1.63699219e+02]\n",
      "   ...\n",
      "   [9.97332916e+01 1.00733292e+02 9.47332916e+01]\n",
      "   [9.90000000e+01 1.00000000e+02 9.40000000e+01]\n",
      "   [9.90000000e+01 1.00000000e+02 9.40000000e+01]]\n",
      "\n",
      "  [[1.68832031e+02 1.69832031e+02 1.64832031e+02]\n",
      "   [1.68832031e+02 1.69832031e+02 1.64832031e+02]\n",
      "   [1.68832031e+02 1.69832031e+02 1.64832031e+02]\n",
      "   ...\n",
      "   [1.00851059e+02 1.01851059e+02 9.58510590e+01]\n",
      "   [1.00000000e+02 1.01000000e+02 9.50000000e+01]\n",
      "   [1.00000000e+02 1.01000000e+02 9.50000000e+01]]\n",
      "\n",
      "  ...\n",
      "\n",
      "  [[4.00546875e+01 3.90546875e+01 3.50546875e+01]\n",
      "   [4.08320312e+01 3.98320312e+01 3.58320312e+01]\n",
      "   [4.19453125e+01 4.09453125e+01 3.69453125e+01]\n",
      "   ...\n",
      "   [3.03945312e+01 3.03945312e+01 3.03945312e+01]\n",
      "   [3.00000000e+01 3.00000000e+01 3.00000000e+01]\n",
      "   [2.83147430e+01 2.83147430e+01 2.83147430e+01]]\n",
      "\n",
      "  [[3.81556854e+01 3.71556854e+01 3.31556854e+01]\n",
      "   [3.89001312e+01 3.79001312e+01 3.39001312e+01]\n",
      "   [3.98125000e+01 3.88125000e+01 3.48125000e+01]\n",
      "   ...\n",
      "   [3.15273438e+01 3.15273438e+01 3.15273438e+01]\n",
      "   [3.10000000e+01 3.10000000e+01 3.10000000e+01]\n",
      "   [2.76568146e+01 2.76568146e+01 2.76568146e+01]]\n",
      "\n",
      "  [[3.92940826e+01 3.82940826e+01 3.42940826e+01]\n",
      "   [3.97343750e+01 3.87343750e+01 3.47343750e+01]\n",
      "   [4.07985382e+01 3.97985382e+01 3.57985382e+01]\n",
      "   ...\n",
      "   [3.39118195e+01 3.43454132e+01 3.10446320e+01]\n",
      "   [3.04241333e+01 3.07137604e+01 2.82210083e+01]\n",
      "   [2.67271118e+01 2.67271118e+01 2.58599243e+01]]]], shape=(32, 128, 128, 3), dtype=float32) (32, 128, 128, 3)\n",
      "tf.Tensor(\n",
      "[[0. 1.]\n",
      " [1. 0.]\n",
      " [1. 0.]\n",
      " [1. 0.]\n",
      " [0. 1.]\n",
      " [0. 1.]\n",
      " [1. 0.]\n",
      " [1. 0.]\n",
      " [0. 1.]\n",
      " [0. 1.]\n",
      " [1. 0.]\n",
      " [0. 1.]\n",
      " [1. 0.]\n",
      " [0. 1.]\n",
      " [0. 1.]\n",
      " [1. 0.]\n",
      " [0. 1.]\n",
      " [0. 1.]\n",
      " [0. 1.]\n",
      " [0. 1.]\n",
      " [0. 1.]\n",
      " [0. 1.]\n",
      " [1. 0.]\n",
      " [1. 0.]\n",
      " [1. 0.]\n",
      " [1. 0.]\n",
      " [1. 0.]\n",
      " [1. 0.]\n",
      " [0. 1.]\n",
      " [1. 0.]\n",
      " [1. 0.]\n",
      " [0. 1.]], shape=(32, 2), dtype=float32) (32, 2)\n"
     ]
    }
   ],
   "source": [
    "for x,y in training_set:\n",
    "    print(x,x.shape)\n",
    "    print(y,y.shape)\n",
    "    break"
   ]
  },
  {
   "cell_type": "markdown",
   "id": "abd3521c-962f-45cd-a609-930bb9a1f813",
   "metadata": {},
   "source": [
    "## Building Model"
   ]
  },
  {
   "cell_type": "code",
   "execution_count": 26,
   "id": "b48fcce2-0718-45cb-a634-e5334658019b",
   "metadata": {},
   "outputs": [],
   "source": [
    "from tensorflow.keras.layers import Dense,Conv2D, MaxPool2D, Flatten, Dropout\n",
    "from tensorflow.keras.models import Sequential"
   ]
  },
  {
   "cell_type": "code",
   "execution_count": 19,
   "id": "386d0abf-a3f4-406f-8f48-d9c6c3298806",
   "metadata": {},
   "outputs": [],
   "source": [
    "model= Sequential()"
   ]
  },
  {
   "cell_type": "markdown",
   "id": "458215f3-9398-4c87-bf75-a10389c0347e",
   "metadata": {},
   "source": [
    "### Building Convolution Layer"
   ]
  },
  {
   "cell_type": "code",
   "execution_count": 20,
   "id": "08227298-304a-4db8-b501-28bc8d38edfc",
   "metadata": {},
   "outputs": [],
   "source": [
    "model.add(Conv2D(filters=32, kernel_size=3, padding= 'same', activation='relu', input_shape=[128,128,3]))\n",
    "model.add(Conv2D(filters=32, kernel_size=3, activation='relu'))\n",
    "model.add(MaxPool2D(pool_size=2, strides=2))"
   ]
  },
  {
   "cell_type": "code",
   "execution_count": 21,
   "id": "abda8c07-b0f2-4636-a0a7-d68be5b1f78e",
   "metadata": {},
   "outputs": [],
   "source": [
    "model.add(Conv2D(filters=64, kernel_size=3, padding= 'same', activation='relu'))\n",
    "model.add(Conv2D(filters=64, kernel_size=3, activation='relu'))\n",
    "model.add(MaxPool2D(pool_size=2, strides=2))"
   ]
  },
  {
   "cell_type": "code",
   "execution_count": 22,
   "id": "b6b392f9-8651-41ef-85b2-1b2ce9c4d3e1",
   "metadata": {},
   "outputs": [],
   "source": [
    "model.add(Conv2D(filters=128, kernel_size=3, padding= 'same', activation='relu'))\n",
    "model.add(Conv2D(filters=128, kernel_size=3, activation='relu'))\n",
    "model.add(MaxPool2D(pool_size=2, strides=2))"
   ]
  },
  {
   "cell_type": "code",
   "execution_count": 23,
   "id": "fae27e37-13e6-4059-9031-b1f6a8773374",
   "metadata": {},
   "outputs": [],
   "source": [
    "model.add(Conv2D(filters=256, kernel_size=3, padding= 'same', activation='relu'))\n",
    "model.add(Conv2D(filters=256, kernel_size=3, activation='relu'))\n",
    "model.add(MaxPool2D(pool_size=2, strides=2))"
   ]
  },
  {
   "cell_type": "code",
   "execution_count": 24,
   "id": "6c137d08-6a22-40f0-9e5c-46a242ea005e",
   "metadata": {},
   "outputs": [],
   "source": [
    "model.add(Conv2D(filters=512, kernel_size=3, padding= 'same', activation='relu'))\n",
    "model.add(Conv2D(filters=512, kernel_size=3, activation='relu'))\n",
    "model.add(MaxPool2D(pool_size=2, strides=2))"
   ]
  },
  {
   "cell_type": "code",
   "execution_count": 27,
   "id": "f8d400aa-855b-4a82-830a-21ff62daecd8",
   "metadata": {},
   "outputs": [],
   "source": [
    "model.add(Dropout(0.25)) #To Avoid Overfitting"
   ]
  },
  {
   "cell_type": "code",
   "execution_count": 28,
   "id": "42255bb5-d204-43f9-b680-0b41063befd3",
   "metadata": {},
   "outputs": [],
   "source": [
    "model.add(Flatten())"
   ]
  },
  {
   "cell_type": "code",
   "execution_count": 29,
   "id": "871c82f2-011e-422a-a6a3-7837be181fcb",
   "metadata": {},
   "outputs": [],
   "source": [
    "model.add(Dense(units=1500, activation='relu'))"
   ]
  },
  {
   "cell_type": "code",
   "execution_count": 30,
   "id": "541e6720-75c6-4adc-a935-e3ab02f31141",
   "metadata": {},
   "outputs": [],
   "source": [
    "model.add(Dropout(0.4))"
   ]
  },
  {
   "cell_type": "code",
   "execution_count": 31,
   "id": "c90225e9-5b2d-4c31-8c38-a9891c2f7cda",
   "metadata": {},
   "outputs": [],
   "source": [
    "#Output Layer\n",
    "model.add(Dense(units=2, activation='softmax'))"
   ]
  },
  {
   "cell_type": "markdown",
   "id": "8f866145-7379-41c5-bdfe-4ddd1d4d81c2",
   "metadata": {},
   "source": [
    "### Compiling Model"
   ]
  },
  {
   "cell_type": "code",
   "execution_count": 32,
   "id": "42cc5779-0378-4fd1-a1f0-a824addcf6d8",
   "metadata": {},
   "outputs": [],
   "source": [
    "model.compile(optimizer='adam',loss='categorical_crossentropy',metrics=['accuracy'])"
   ]
  },
  {
   "cell_type": "code",
   "execution_count": 33,
   "id": "0f32745d-2fad-4e6e-b4cd-165bf028fc48",
   "metadata": {},
   "outputs": [
    {
     "data": {
      "text/html": [
       "<pre style=\"white-space:pre;overflow-x:auto;line-height:normal;font-family:Menlo,'DejaVu Sans Mono',consolas,'Courier New',monospace\"><span style=\"font-weight: bold\">Model: \"sequential_1\"</span>\n",
       "</pre>\n"
      ],
      "text/plain": [
       "\u001b[1mModel: \"sequential_1\"\u001b[0m\n"
      ]
     },
     "metadata": {},
     "output_type": "display_data"
    },
    {
     "data": {
      "text/html": [
       "<pre style=\"white-space:pre;overflow-x:auto;line-height:normal;font-family:Menlo,'DejaVu Sans Mono',consolas,'Courier New',monospace\">┏━━━━━━━━━━━━━━━━━━━━━━━━━━━━━━━━━━━━━━┳━━━━━━━━━━━━━━━━━━━━━━━━━━━━━┳━━━━━━━━━━━━━━━━━┓\n",
       "┃<span style=\"font-weight: bold\"> Layer (type)                         </span>┃<span style=\"font-weight: bold\"> Output Shape                </span>┃<span style=\"font-weight: bold\">         Param # </span>┃\n",
       "┡━━━━━━━━━━━━━━━━━━━━━━━━━━━━━━━━━━━━━━╇━━━━━━━━━━━━━━━━━━━━━━━━━━━━━╇━━━━━━━━━━━━━━━━━┩\n",
       "│ conv2d_8 (<span style=\"color: #0087ff; text-decoration-color: #0087ff\">Conv2D</span>)                    │ (<span style=\"color: #00d7ff; text-decoration-color: #00d7ff\">None</span>, <span style=\"color: #00af00; text-decoration-color: #00af00\">128</span>, <span style=\"color: #00af00; text-decoration-color: #00af00\">128</span>, <span style=\"color: #00af00; text-decoration-color: #00af00\">32</span>)        │             <span style=\"color: #00af00; text-decoration-color: #00af00\">896</span> │\n",
       "├──────────────────────────────────────┼─────────────────────────────┼─────────────────┤\n",
       "│ conv2d_9 (<span style=\"color: #0087ff; text-decoration-color: #0087ff\">Conv2D</span>)                    │ (<span style=\"color: #00d7ff; text-decoration-color: #00d7ff\">None</span>, <span style=\"color: #00af00; text-decoration-color: #00af00\">126</span>, <span style=\"color: #00af00; text-decoration-color: #00af00\">126</span>, <span style=\"color: #00af00; text-decoration-color: #00af00\">32</span>)        │           <span style=\"color: #00af00; text-decoration-color: #00af00\">9,248</span> │\n",
       "├──────────────────────────────────────┼─────────────────────────────┼─────────────────┤\n",
       "│ max_pooling2d_4 (<span style=\"color: #0087ff; text-decoration-color: #0087ff\">MaxPooling2D</span>)       │ (<span style=\"color: #00d7ff; text-decoration-color: #00d7ff\">None</span>, <span style=\"color: #00af00; text-decoration-color: #00af00\">63</span>, <span style=\"color: #00af00; text-decoration-color: #00af00\">63</span>, <span style=\"color: #00af00; text-decoration-color: #00af00\">32</span>)          │               <span style=\"color: #00af00; text-decoration-color: #00af00\">0</span> │\n",
       "├──────────────────────────────────────┼─────────────────────────────┼─────────────────┤\n",
       "│ conv2d_10 (<span style=\"color: #0087ff; text-decoration-color: #0087ff\">Conv2D</span>)                   │ (<span style=\"color: #00d7ff; text-decoration-color: #00d7ff\">None</span>, <span style=\"color: #00af00; text-decoration-color: #00af00\">63</span>, <span style=\"color: #00af00; text-decoration-color: #00af00\">63</span>, <span style=\"color: #00af00; text-decoration-color: #00af00\">64</span>)          │          <span style=\"color: #00af00; text-decoration-color: #00af00\">18,496</span> │\n",
       "├──────────────────────────────────────┼─────────────────────────────┼─────────────────┤\n",
       "│ conv2d_11 (<span style=\"color: #0087ff; text-decoration-color: #0087ff\">Conv2D</span>)                   │ (<span style=\"color: #00d7ff; text-decoration-color: #00d7ff\">None</span>, <span style=\"color: #00af00; text-decoration-color: #00af00\">61</span>, <span style=\"color: #00af00; text-decoration-color: #00af00\">61</span>, <span style=\"color: #00af00; text-decoration-color: #00af00\">64</span>)          │          <span style=\"color: #00af00; text-decoration-color: #00af00\">36,928</span> │\n",
       "├──────────────────────────────────────┼─────────────────────────────┼─────────────────┤\n",
       "│ max_pooling2d_5 (<span style=\"color: #0087ff; text-decoration-color: #0087ff\">MaxPooling2D</span>)       │ (<span style=\"color: #00d7ff; text-decoration-color: #00d7ff\">None</span>, <span style=\"color: #00af00; text-decoration-color: #00af00\">30</span>, <span style=\"color: #00af00; text-decoration-color: #00af00\">30</span>, <span style=\"color: #00af00; text-decoration-color: #00af00\">64</span>)          │               <span style=\"color: #00af00; text-decoration-color: #00af00\">0</span> │\n",
       "├──────────────────────────────────────┼─────────────────────────────┼─────────────────┤\n",
       "│ conv2d_12 (<span style=\"color: #0087ff; text-decoration-color: #0087ff\">Conv2D</span>)                   │ (<span style=\"color: #00d7ff; text-decoration-color: #00d7ff\">None</span>, <span style=\"color: #00af00; text-decoration-color: #00af00\">30</span>, <span style=\"color: #00af00; text-decoration-color: #00af00\">30</span>, <span style=\"color: #00af00; text-decoration-color: #00af00\">128</span>)         │          <span style=\"color: #00af00; text-decoration-color: #00af00\">73,856</span> │\n",
       "├──────────────────────────────────────┼─────────────────────────────┼─────────────────┤\n",
       "│ conv2d_13 (<span style=\"color: #0087ff; text-decoration-color: #0087ff\">Conv2D</span>)                   │ (<span style=\"color: #00d7ff; text-decoration-color: #00d7ff\">None</span>, <span style=\"color: #00af00; text-decoration-color: #00af00\">28</span>, <span style=\"color: #00af00; text-decoration-color: #00af00\">28</span>, <span style=\"color: #00af00; text-decoration-color: #00af00\">128</span>)         │         <span style=\"color: #00af00; text-decoration-color: #00af00\">147,584</span> │\n",
       "├──────────────────────────────────────┼─────────────────────────────┼─────────────────┤\n",
       "│ max_pooling2d_6 (<span style=\"color: #0087ff; text-decoration-color: #0087ff\">MaxPooling2D</span>)       │ (<span style=\"color: #00d7ff; text-decoration-color: #00d7ff\">None</span>, <span style=\"color: #00af00; text-decoration-color: #00af00\">14</span>, <span style=\"color: #00af00; text-decoration-color: #00af00\">14</span>, <span style=\"color: #00af00; text-decoration-color: #00af00\">128</span>)         │               <span style=\"color: #00af00; text-decoration-color: #00af00\">0</span> │\n",
       "├──────────────────────────────────────┼─────────────────────────────┼─────────────────┤\n",
       "│ conv2d_14 (<span style=\"color: #0087ff; text-decoration-color: #0087ff\">Conv2D</span>)                   │ (<span style=\"color: #00d7ff; text-decoration-color: #00d7ff\">None</span>, <span style=\"color: #00af00; text-decoration-color: #00af00\">14</span>, <span style=\"color: #00af00; text-decoration-color: #00af00\">14</span>, <span style=\"color: #00af00; text-decoration-color: #00af00\">256</span>)         │         <span style=\"color: #00af00; text-decoration-color: #00af00\">295,168</span> │\n",
       "├──────────────────────────────────────┼─────────────────────────────┼─────────────────┤\n",
       "│ conv2d_15 (<span style=\"color: #0087ff; text-decoration-color: #0087ff\">Conv2D</span>)                   │ (<span style=\"color: #00d7ff; text-decoration-color: #00d7ff\">None</span>, <span style=\"color: #00af00; text-decoration-color: #00af00\">12</span>, <span style=\"color: #00af00; text-decoration-color: #00af00\">12</span>, <span style=\"color: #00af00; text-decoration-color: #00af00\">256</span>)         │         <span style=\"color: #00af00; text-decoration-color: #00af00\">590,080</span> │\n",
       "├──────────────────────────────────────┼─────────────────────────────┼─────────────────┤\n",
       "│ max_pooling2d_7 (<span style=\"color: #0087ff; text-decoration-color: #0087ff\">MaxPooling2D</span>)       │ (<span style=\"color: #00d7ff; text-decoration-color: #00d7ff\">None</span>, <span style=\"color: #00af00; text-decoration-color: #00af00\">6</span>, <span style=\"color: #00af00; text-decoration-color: #00af00\">6</span>, <span style=\"color: #00af00; text-decoration-color: #00af00\">256</span>)           │               <span style=\"color: #00af00; text-decoration-color: #00af00\">0</span> │\n",
       "├──────────────────────────────────────┼─────────────────────────────┼─────────────────┤\n",
       "│ conv2d_16 (<span style=\"color: #0087ff; text-decoration-color: #0087ff\">Conv2D</span>)                   │ (<span style=\"color: #00d7ff; text-decoration-color: #00d7ff\">None</span>, <span style=\"color: #00af00; text-decoration-color: #00af00\">6</span>, <span style=\"color: #00af00; text-decoration-color: #00af00\">6</span>, <span style=\"color: #00af00; text-decoration-color: #00af00\">512</span>)           │       <span style=\"color: #00af00; text-decoration-color: #00af00\">1,180,160</span> │\n",
       "├──────────────────────────────────────┼─────────────────────────────┼─────────────────┤\n",
       "│ conv2d_17 (<span style=\"color: #0087ff; text-decoration-color: #0087ff\">Conv2D</span>)                   │ (<span style=\"color: #00d7ff; text-decoration-color: #00d7ff\">None</span>, <span style=\"color: #00af00; text-decoration-color: #00af00\">4</span>, <span style=\"color: #00af00; text-decoration-color: #00af00\">4</span>, <span style=\"color: #00af00; text-decoration-color: #00af00\">512</span>)           │       <span style=\"color: #00af00; text-decoration-color: #00af00\">2,359,808</span> │\n",
       "├──────────────────────────────────────┼─────────────────────────────┼─────────────────┤\n",
       "│ max_pooling2d_8 (<span style=\"color: #0087ff; text-decoration-color: #0087ff\">MaxPooling2D</span>)       │ (<span style=\"color: #00d7ff; text-decoration-color: #00d7ff\">None</span>, <span style=\"color: #00af00; text-decoration-color: #00af00\">2</span>, <span style=\"color: #00af00; text-decoration-color: #00af00\">2</span>, <span style=\"color: #00af00; text-decoration-color: #00af00\">512</span>)           │               <span style=\"color: #00af00; text-decoration-color: #00af00\">0</span> │\n",
       "├──────────────────────────────────────┼─────────────────────────────┼─────────────────┤\n",
       "│ dropout (<span style=\"color: #0087ff; text-decoration-color: #0087ff\">Dropout</span>)                    │ (<span style=\"color: #00d7ff; text-decoration-color: #00d7ff\">None</span>, <span style=\"color: #00af00; text-decoration-color: #00af00\">2</span>, <span style=\"color: #00af00; text-decoration-color: #00af00\">2</span>, <span style=\"color: #00af00; text-decoration-color: #00af00\">512</span>)           │               <span style=\"color: #00af00; text-decoration-color: #00af00\">0</span> │\n",
       "├──────────────────────────────────────┼─────────────────────────────┼─────────────────┤\n",
       "│ flatten_1 (<span style=\"color: #0087ff; text-decoration-color: #0087ff\">Flatten</span>)                  │ (<span style=\"color: #00d7ff; text-decoration-color: #00d7ff\">None</span>, <span style=\"color: #00af00; text-decoration-color: #00af00\">2048</span>)                │               <span style=\"color: #00af00; text-decoration-color: #00af00\">0</span> │\n",
       "├──────────────────────────────────────┼─────────────────────────────┼─────────────────┤\n",
       "│ dense_2 (<span style=\"color: #0087ff; text-decoration-color: #0087ff\">Dense</span>)                      │ (<span style=\"color: #00d7ff; text-decoration-color: #00d7ff\">None</span>, <span style=\"color: #00af00; text-decoration-color: #00af00\">1500</span>)                │       <span style=\"color: #00af00; text-decoration-color: #00af00\">3,073,500</span> │\n",
       "├──────────────────────────────────────┼─────────────────────────────┼─────────────────┤\n",
       "│ dropout_1 (<span style=\"color: #0087ff; text-decoration-color: #0087ff\">Dropout</span>)                  │ (<span style=\"color: #00d7ff; text-decoration-color: #00d7ff\">None</span>, <span style=\"color: #00af00; text-decoration-color: #00af00\">1500</span>)                │               <span style=\"color: #00af00; text-decoration-color: #00af00\">0</span> │\n",
       "├──────────────────────────────────────┼─────────────────────────────┼─────────────────┤\n",
       "│ dense_3 (<span style=\"color: #0087ff; text-decoration-color: #0087ff\">Dense</span>)                      │ (<span style=\"color: #00d7ff; text-decoration-color: #00d7ff\">None</span>, <span style=\"color: #00af00; text-decoration-color: #00af00\">2</span>)                   │           <span style=\"color: #00af00; text-decoration-color: #00af00\">3,002</span> │\n",
       "└──────────────────────────────────────┴─────────────────────────────┴─────────────────┘\n",
       "</pre>\n"
      ],
      "text/plain": [
       "┏━━━━━━━━━━━━━━━━━━━━━━━━━━━━━━━━━━━━━━┳━━━━━━━━━━━━━━━━━━━━━━━━━━━━━┳━━━━━━━━━━━━━━━━━┓\n",
       "┃\u001b[1m \u001b[0m\u001b[1mLayer (type)                        \u001b[0m\u001b[1m \u001b[0m┃\u001b[1m \u001b[0m\u001b[1mOutput Shape               \u001b[0m\u001b[1m \u001b[0m┃\u001b[1m \u001b[0m\u001b[1m        Param #\u001b[0m\u001b[1m \u001b[0m┃\n",
       "┡━━━━━━━━━━━━━━━━━━━━━━━━━━━━━━━━━━━━━━╇━━━━━━━━━━━━━━━━━━━━━━━━━━━━━╇━━━━━━━━━━━━━━━━━┩\n",
       "│ conv2d_8 (\u001b[38;5;33mConv2D\u001b[0m)                    │ (\u001b[38;5;45mNone\u001b[0m, \u001b[38;5;34m128\u001b[0m, \u001b[38;5;34m128\u001b[0m, \u001b[38;5;34m32\u001b[0m)        │             \u001b[38;5;34m896\u001b[0m │\n",
       "├──────────────────────────────────────┼─────────────────────────────┼─────────────────┤\n",
       "│ conv2d_9 (\u001b[38;5;33mConv2D\u001b[0m)                    │ (\u001b[38;5;45mNone\u001b[0m, \u001b[38;5;34m126\u001b[0m, \u001b[38;5;34m126\u001b[0m, \u001b[38;5;34m32\u001b[0m)        │           \u001b[38;5;34m9,248\u001b[0m │\n",
       "├──────────────────────────────────────┼─────────────────────────────┼─────────────────┤\n",
       "│ max_pooling2d_4 (\u001b[38;5;33mMaxPooling2D\u001b[0m)       │ (\u001b[38;5;45mNone\u001b[0m, \u001b[38;5;34m63\u001b[0m, \u001b[38;5;34m63\u001b[0m, \u001b[38;5;34m32\u001b[0m)          │               \u001b[38;5;34m0\u001b[0m │\n",
       "├──────────────────────────────────────┼─────────────────────────────┼─────────────────┤\n",
       "│ conv2d_10 (\u001b[38;5;33mConv2D\u001b[0m)                   │ (\u001b[38;5;45mNone\u001b[0m, \u001b[38;5;34m63\u001b[0m, \u001b[38;5;34m63\u001b[0m, \u001b[38;5;34m64\u001b[0m)          │          \u001b[38;5;34m18,496\u001b[0m │\n",
       "├──────────────────────────────────────┼─────────────────────────────┼─────────────────┤\n",
       "│ conv2d_11 (\u001b[38;5;33mConv2D\u001b[0m)                   │ (\u001b[38;5;45mNone\u001b[0m, \u001b[38;5;34m61\u001b[0m, \u001b[38;5;34m61\u001b[0m, \u001b[38;5;34m64\u001b[0m)          │          \u001b[38;5;34m36,928\u001b[0m │\n",
       "├──────────────────────────────────────┼─────────────────────────────┼─────────────────┤\n",
       "│ max_pooling2d_5 (\u001b[38;5;33mMaxPooling2D\u001b[0m)       │ (\u001b[38;5;45mNone\u001b[0m, \u001b[38;5;34m30\u001b[0m, \u001b[38;5;34m30\u001b[0m, \u001b[38;5;34m64\u001b[0m)          │               \u001b[38;5;34m0\u001b[0m │\n",
       "├──────────────────────────────────────┼─────────────────────────────┼─────────────────┤\n",
       "│ conv2d_12 (\u001b[38;5;33mConv2D\u001b[0m)                   │ (\u001b[38;5;45mNone\u001b[0m, \u001b[38;5;34m30\u001b[0m, \u001b[38;5;34m30\u001b[0m, \u001b[38;5;34m128\u001b[0m)         │          \u001b[38;5;34m73,856\u001b[0m │\n",
       "├──────────────────────────────────────┼─────────────────────────────┼─────────────────┤\n",
       "│ conv2d_13 (\u001b[38;5;33mConv2D\u001b[0m)                   │ (\u001b[38;5;45mNone\u001b[0m, \u001b[38;5;34m28\u001b[0m, \u001b[38;5;34m28\u001b[0m, \u001b[38;5;34m128\u001b[0m)         │         \u001b[38;5;34m147,584\u001b[0m │\n",
       "├──────────────────────────────────────┼─────────────────────────────┼─────────────────┤\n",
       "│ max_pooling2d_6 (\u001b[38;5;33mMaxPooling2D\u001b[0m)       │ (\u001b[38;5;45mNone\u001b[0m, \u001b[38;5;34m14\u001b[0m, \u001b[38;5;34m14\u001b[0m, \u001b[38;5;34m128\u001b[0m)         │               \u001b[38;5;34m0\u001b[0m │\n",
       "├──────────────────────────────────────┼─────────────────────────────┼─────────────────┤\n",
       "│ conv2d_14 (\u001b[38;5;33mConv2D\u001b[0m)                   │ (\u001b[38;5;45mNone\u001b[0m, \u001b[38;5;34m14\u001b[0m, \u001b[38;5;34m14\u001b[0m, \u001b[38;5;34m256\u001b[0m)         │         \u001b[38;5;34m295,168\u001b[0m │\n",
       "├──────────────────────────────────────┼─────────────────────────────┼─────────────────┤\n",
       "│ conv2d_15 (\u001b[38;5;33mConv2D\u001b[0m)                   │ (\u001b[38;5;45mNone\u001b[0m, \u001b[38;5;34m12\u001b[0m, \u001b[38;5;34m12\u001b[0m, \u001b[38;5;34m256\u001b[0m)         │         \u001b[38;5;34m590,080\u001b[0m │\n",
       "├──────────────────────────────────────┼─────────────────────────────┼─────────────────┤\n",
       "│ max_pooling2d_7 (\u001b[38;5;33mMaxPooling2D\u001b[0m)       │ (\u001b[38;5;45mNone\u001b[0m, \u001b[38;5;34m6\u001b[0m, \u001b[38;5;34m6\u001b[0m, \u001b[38;5;34m256\u001b[0m)           │               \u001b[38;5;34m0\u001b[0m │\n",
       "├──────────────────────────────────────┼─────────────────────────────┼─────────────────┤\n",
       "│ conv2d_16 (\u001b[38;5;33mConv2D\u001b[0m)                   │ (\u001b[38;5;45mNone\u001b[0m, \u001b[38;5;34m6\u001b[0m, \u001b[38;5;34m6\u001b[0m, \u001b[38;5;34m512\u001b[0m)           │       \u001b[38;5;34m1,180,160\u001b[0m │\n",
       "├──────────────────────────────────────┼─────────────────────────────┼─────────────────┤\n",
       "│ conv2d_17 (\u001b[38;5;33mConv2D\u001b[0m)                   │ (\u001b[38;5;45mNone\u001b[0m, \u001b[38;5;34m4\u001b[0m, \u001b[38;5;34m4\u001b[0m, \u001b[38;5;34m512\u001b[0m)           │       \u001b[38;5;34m2,359,808\u001b[0m │\n",
       "├──────────────────────────────────────┼─────────────────────────────┼─────────────────┤\n",
       "│ max_pooling2d_8 (\u001b[38;5;33mMaxPooling2D\u001b[0m)       │ (\u001b[38;5;45mNone\u001b[0m, \u001b[38;5;34m2\u001b[0m, \u001b[38;5;34m2\u001b[0m, \u001b[38;5;34m512\u001b[0m)           │               \u001b[38;5;34m0\u001b[0m │\n",
       "├──────────────────────────────────────┼─────────────────────────────┼─────────────────┤\n",
       "│ dropout (\u001b[38;5;33mDropout\u001b[0m)                    │ (\u001b[38;5;45mNone\u001b[0m, \u001b[38;5;34m2\u001b[0m, \u001b[38;5;34m2\u001b[0m, \u001b[38;5;34m512\u001b[0m)           │               \u001b[38;5;34m0\u001b[0m │\n",
       "├──────────────────────────────────────┼─────────────────────────────┼─────────────────┤\n",
       "│ flatten_1 (\u001b[38;5;33mFlatten\u001b[0m)                  │ (\u001b[38;5;45mNone\u001b[0m, \u001b[38;5;34m2048\u001b[0m)                │               \u001b[38;5;34m0\u001b[0m │\n",
       "├──────────────────────────────────────┼─────────────────────────────┼─────────────────┤\n",
       "│ dense_2 (\u001b[38;5;33mDense\u001b[0m)                      │ (\u001b[38;5;45mNone\u001b[0m, \u001b[38;5;34m1500\u001b[0m)                │       \u001b[38;5;34m3,073,500\u001b[0m │\n",
       "├──────────────────────────────────────┼─────────────────────────────┼─────────────────┤\n",
       "│ dropout_1 (\u001b[38;5;33mDropout\u001b[0m)                  │ (\u001b[38;5;45mNone\u001b[0m, \u001b[38;5;34m1500\u001b[0m)                │               \u001b[38;5;34m0\u001b[0m │\n",
       "├──────────────────────────────────────┼─────────────────────────────┼─────────────────┤\n",
       "│ dense_3 (\u001b[38;5;33mDense\u001b[0m)                      │ (\u001b[38;5;45mNone\u001b[0m, \u001b[38;5;34m2\u001b[0m)                   │           \u001b[38;5;34m3,002\u001b[0m │\n",
       "└──────────────────────────────────────┴─────────────────────────────┴─────────────────┘\n"
      ]
     },
     "metadata": {},
     "output_type": "display_data"
    },
    {
     "data": {
      "text/html": [
       "<pre style=\"white-space:pre;overflow-x:auto;line-height:normal;font-family:Menlo,'DejaVu Sans Mono',consolas,'Courier New',monospace\"><span style=\"font-weight: bold\"> Total params: </span><span style=\"color: #00af00; text-decoration-color: #00af00\">7,788,726</span> (29.71 MB)\n",
       "</pre>\n"
      ],
      "text/plain": [
       "\u001b[1m Total params: \u001b[0m\u001b[38;5;34m7,788,726\u001b[0m (29.71 MB)\n"
      ]
     },
     "metadata": {},
     "output_type": "display_data"
    },
    {
     "data": {
      "text/html": [
       "<pre style=\"white-space:pre;overflow-x:auto;line-height:normal;font-family:Menlo,'DejaVu Sans Mono',consolas,'Courier New',monospace\"><span style=\"font-weight: bold\"> Trainable params: </span><span style=\"color: #00af00; text-decoration-color: #00af00\">7,788,726</span> (29.71 MB)\n",
       "</pre>\n"
      ],
      "text/plain": [
       "\u001b[1m Trainable params: \u001b[0m\u001b[38;5;34m7,788,726\u001b[0m (29.71 MB)\n"
      ]
     },
     "metadata": {},
     "output_type": "display_data"
    },
    {
     "data": {
      "text/html": [
       "<pre style=\"white-space:pre;overflow-x:auto;line-height:normal;font-family:Menlo,'DejaVu Sans Mono',consolas,'Courier New',monospace\"><span style=\"font-weight: bold\"> Non-trainable params: </span><span style=\"color: #00af00; text-decoration-color: #00af00\">0</span> (0.00 B)\n",
       "</pre>\n"
      ],
      "text/plain": [
       "\u001b[1m Non-trainable params: \u001b[0m\u001b[38;5;34m0\u001b[0m (0.00 B)\n"
      ]
     },
     "metadata": {},
     "output_type": "display_data"
    }
   ],
   "source": [
    "model.summary()"
   ]
  },
  {
   "cell_type": "markdown",
   "id": "f0f8fe05-926e-4131-bbc4-30d031d94bba",
   "metadata": {},
   "source": [
    "### Model Training"
   ]
  },
  {
   "cell_type": "code",
   "execution_count": 34,
   "id": "0ad274aa-fdba-4236-aa35-8bcb1f2036a0",
   "metadata": {},
   "outputs": [
    {
     "name": "stdout",
     "output_type": "stream",
     "text": [
      "Epoch 1/10\n",
      "\u001b[1m706/706\u001b[0m \u001b[32m━━━━━━━━━━━━━━━━━━━━\u001b[0m\u001b[37m\u001b[0m \u001b[1m3268s\u001b[0m 5s/step - accuracy: 0.7322 - loss: 1.0175 - val_accuracy: 0.8886 - val_loss: 0.3325\n",
      "Epoch 2/10\n",
      "\u001b[1m706/706\u001b[0m \u001b[32m━━━━━━━━━━━━━━━━━━━━\u001b[0m\u001b[37m\u001b[0m \u001b[1m1550s\u001b[0m 2s/step - accuracy: 0.8273 - loss: 0.4120 - val_accuracy: 0.9069 - val_loss: 0.2758\n",
      "Epoch 3/10\n",
      "\u001b[1m706/706\u001b[0m \u001b[32m━━━━━━━━━━━━━━━━━━━━\u001b[0m\u001b[37m\u001b[0m \u001b[1m930s\u001b[0m 1s/step - accuracy: 0.8469 - loss: 0.3717 - val_accuracy: 0.8997 - val_loss: 0.2861\n",
      "Epoch 4/10\n",
      "\u001b[1m706/706\u001b[0m \u001b[32m━━━━━━━━━━━━━━━━━━━━\u001b[0m\u001b[37m\u001b[0m \u001b[1m990s\u001b[0m 1s/step - accuracy: 0.8601 - loss: 0.3458 - val_accuracy: 0.9089 - val_loss: 0.2662\n",
      "Epoch 5/10\n",
      "\u001b[1m706/706\u001b[0m \u001b[32m━━━━━━━━━━━━━━━━━━━━\u001b[0m\u001b[37m\u001b[0m \u001b[1m865s\u001b[0m 1s/step - accuracy: 0.8700 - loss: 0.3289 - val_accuracy: 0.8743 - val_loss: 0.3063\n",
      "Epoch 6/10\n",
      "\u001b[1m706/706\u001b[0m \u001b[32m━━━━━━━━━━━━━━━━━━━━\u001b[0m\u001b[37m\u001b[0m \u001b[1m705s\u001b[0m 998ms/step - accuracy: 0.8705 - loss: 0.3201 - val_accuracy: 0.9093 - val_loss: 0.2444\n",
      "Epoch 7/10\n",
      "\u001b[1m706/706\u001b[0m \u001b[32m━━━━━━━━━━━━━━━━━━━━\u001b[0m\u001b[37m\u001b[0m \u001b[1m850s\u001b[0m 1s/step - accuracy: 0.8769 - loss: 0.3126 - val_accuracy: 0.9176 - val_loss: 0.2315\n",
      "Epoch 8/10\n",
      "\u001b[1m706/706\u001b[0m \u001b[32m━━━━━━━━━━━━━━━━━━━━\u001b[0m\u001b[37m\u001b[0m \u001b[1m882s\u001b[0m 1s/step - accuracy: 0.8788 - loss: 0.3070 - val_accuracy: 0.9061 - val_loss: 0.2501\n",
      "Epoch 9/10\n",
      "\u001b[1m706/706\u001b[0m \u001b[32m━━━━━━━━━━━━━━━━━━━━\u001b[0m\u001b[37m\u001b[0m \u001b[1m1271s\u001b[0m 2s/step - accuracy: 0.8795 - loss: 0.3076 - val_accuracy: 0.9168 - val_loss: 0.2324\n",
      "Epoch 10/10\n",
      "\u001b[1m706/706\u001b[0m \u001b[32m━━━━━━━━━━━━━━━━━━━━\u001b[0m\u001b[37m\u001b[0m \u001b[1m1522s\u001b[0m 2s/step - accuracy: 0.8829 - loss: 0.3012 - val_accuracy: 0.9140 - val_loss: 0.2571\n"
     ]
    }
   ],
   "source": [
    "training_history= model.fit(x=training_set, validation_data=validation_set, epochs=10)"
   ]
  },
  {
   "cell_type": "markdown",
   "id": "0a745a5c-63dd-4bb3-9949-56d16087c6c2",
   "metadata": {},
   "source": [
    "## Model Evaluaiton"
   ]
  },
  {
   "cell_type": "code",
   "execution_count": null,
   "id": "3c673f81-4f87-4ad5-a2bb-57a11a16b55f",
   "metadata": {},
   "outputs": [],
   "source": [
    "#Training set Accuracy\n",
    "train_loss, train_acc = cnn.evaluate(training_set)\n",
    "print('Training accuracy:', train_acc)"
   ]
  },
  {
   "cell_type": "code",
   "execution_count": null,
   "id": "b729bc81-067e-4298-8cfb-90586faa74ba",
   "metadata": {},
   "outputs": [],
   "source": [
    "#Validation set Accuracy\n",
    "val_loss, val_acc = cnn.evaluate(validation_set)\n",
    "print('Validation accuracy:', val_acc)"
   ]
  },
  {
   "cell_type": "markdown",
   "id": "559b62ca-6ad7-4e42-bf93-6f54b3aa805a",
   "metadata": {},
   "source": [
    "## Saving Model"
   ]
  },
  {
   "cell_type": "code",
   "execution_count": 38,
   "id": "8961ede1-aa55-4f7c-835e-f15daa872cfc",
   "metadata": {},
   "outputs": [
    {
     "name": "stderr",
     "output_type": "stream",
     "text": [
      "WARNING:absl:You are saving your model as an HDF5 file via `model.save()` or `keras.saving.save_model(model)`. This file format is considered legacy. We recommend using instead the native Keras format, e.g. `model.save('my_model.keras')` or `keras.saving.save_model(model, 'my_model.keras')`. \n"
     ]
    }
   ],
   "source": [
    "model.save(\"trained_model.h5\")"
   ]
  },
  {
   "cell_type": "code",
   "execution_count": 39,
   "id": "d7fff596-2384-49a2-80ff-2a4a25e91c3d",
   "metadata": {},
   "outputs": [],
   "source": [
    "model.save(\"trained_model.keras\") #Less Storage"
   ]
  },
  {
   "cell_type": "code",
   "execution_count": 40,
   "id": "b66a25a1-ed51-4964-92e8-2b7dbf3d0831",
   "metadata": {},
   "outputs": [
    {
     "data": {
      "text/plain": [
       "{'accuracy': [0.7819978594779968,\n",
       "  0.8311913013458252,\n",
       "  0.8435117602348328,\n",
       "  0.8593777418136597,\n",
       "  0.8669118881225586,\n",
       "  0.8699255585670471,\n",
       "  0.8753767013549805,\n",
       "  0.8743130564689636,\n",
       "  0.8758198618888855,\n",
       "  0.8826448917388916],\n",
       " 'loss': [0.5564775466918945,\n",
       "  0.4003087878227234,\n",
       "  0.37930363416671753,\n",
       "  0.3461547791957855,\n",
       "  0.33498144149780273,\n",
       "  0.32224905490875244,\n",
       "  0.3182970881462097,\n",
       "  0.31780996918678284,\n",
       "  0.31219542026519775,\n",
       "  0.3054146468639374],\n",
       " 'val_accuracy': [0.8885793685913086,\n",
       "  0.9068841934204102,\n",
       "  0.8997214436531067,\n",
       "  0.9088738560676575,\n",
       "  0.8742538690567017,\n",
       "  0.909271776676178,\n",
       "  0.9176283478736877,\n",
       "  0.9060883522033691,\n",
       "  0.916832447052002,\n",
       "  0.9140469431877136],\n",
       " 'val_loss': [0.3324558436870575,\n",
       "  0.27583152055740356,\n",
       "  0.28610387444496155,\n",
       "  0.26621073484420776,\n",
       "  0.30633583664894104,\n",
       "  0.2444172352552414,\n",
       "  0.2314741611480713,\n",
       "  0.250073105096817,\n",
       "  0.23235562443733215,\n",
       "  0.25713613629341125]}"
      ]
     },
     "execution_count": 40,
     "metadata": {},
     "output_type": "execute_result"
    }
   ],
   "source": [
    "training_history.history"
   ]
  },
  {
   "cell_type": "code",
   "execution_count": 41,
   "id": "1c5aa358-3821-4107-ae27-fafb2a90d188",
   "metadata": {},
   "outputs": [],
   "source": [
    "#Recording History in json\n",
    "import json\n",
    "with open('training_hist.json','w') as f:\n",
    "  json.dump(training_history.history,f)"
   ]
  },
  {
   "cell_type": "code",
   "execution_count": 42,
   "id": "959e8d52-612d-46a2-94c9-573cd4210aa5",
   "metadata": {},
   "outputs": [
    {
     "name": "stdout",
     "output_type": "stream",
     "text": [
      "dict_keys(['accuracy', 'loss', 'val_accuracy', 'val_loss'])\n"
     ]
    }
   ],
   "source": [
    "print(training_history.history.keys())"
   ]
  },
  {
   "cell_type": "markdown",
   "id": "c6fa843b-c8ee-4297-a068-272408a04079",
   "metadata": {},
   "source": [
    "## Accuracy Visualization"
   ]
  },
  {
   "cell_type": "code",
   "execution_count": 43,
   "id": "cf74a07a-3b7b-4241-8855-a747c892d0f9",
   "metadata": {},
   "outputs": [
    {
     "data": {
      "image/png": "[encoded data removed]",
      "text/plain": [
       "<Figure size 640x480 with 1 Axes>"
      ]
     },
     "metadata": {},
     "output_type": "display_data"
    }
   ],
   "source": [
    "epochs = [i for i in range(1,11)]\n",
    "plt.plot(epochs,training_history.history['accuracy'],color='red',label='Training Accuracy')\n",
    "plt.plot(epochs,training_history.history['val_accuracy'],color='blue',label='Validation Accuracy')\n",
    "plt.xlabel('No. of Epochs')\n",
    "plt.title('Visualization of Accuracy Result')\n",
    "plt.legend()\n",
    "plt.show()"
   ]
  },
  {
   "cell_type": "code",
   "execution_count": null,
   "id": "82a247a0-f3e0-4108-b10d-69b29a12b4a6",
   "metadata": {},
   "outputs": [],
   "source": []
  }
 ],
 "metadata": {
  "kernelspec": {
   "display_name": "Python 3 (ipykernel)",
   "language": "python",
   "name": "python3"
  },
  "language_info": {
   "codemirror_mode": {
    "name": "ipython",
    "version": 3
   },
   "file_extension": ".py",
   "mimetype": "text/x-python",
   "name": "python",
   "nbconvert_exporter": "python",
   "pygments_lexer": "ipython3",
   "version": "3.11.7"
  }
 },
 "nbformat": 4,
 "nbformat_minor": 5
}
